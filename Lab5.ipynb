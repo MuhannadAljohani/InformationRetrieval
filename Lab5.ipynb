{
 "cells": [
  {
   "cell_type": "code",
   "execution_count": 9,
   "id": "0c53d57c",
   "metadata": {},
   "outputs": [
    {
     "name": "stdout",
     "output_type": "stream",
     "text": [
      "0.5555555555555556\n",
      "['There', 'are', 'many', 'similarity', 'measures', 'used', 'in', 'NLTK', 'package']\n",
      "['There', 'are', 'many', 'similarity', 'measures', 'are', 'available', 'in', 'NLTK']\n"
     ]
    }
   ],
   "source": [
    "from __future__ import print_function \n",
    "from nltk.metrics import *\n",
    "Sentence1=\"There are many similarity measures used in NLTK package\".split()\n",
    "Sentence2=\"There are many similarity measures are available in NLTK\".split()\n",
    "print(accuracy(Sentence1,Sentence2))\n",
    "print(Sentence1)\n",
    "print(Sentence2)"
   ]
  },
  {
   "cell_type": "code",
   "execution_count": 11,
   "id": "1947f04d",
   "metadata": {},
   "outputs": [
    {
     "name": "stdout",
     "output_type": "stream",
     "text": [
      "0.875\n"
     ]
    }
   ],
   "source": [
    "print(precision(set(Sentence1),set(Sentence2)))"
   ]
  },
  {
   "cell_type": "code",
   "execution_count": 12,
   "id": "bf133044",
   "metadata": {},
   "outputs": [
    {
     "name": "stdout",
     "output_type": "stream",
     "text": [
      "0.7777777777777778\n"
     ]
    }
   ],
   "source": [
    "print(recall(set(Sentence1),set(Sentence2)))"
   ]
  },
  {
   "cell_type": "code",
   "execution_count": 17,
   "id": "5fc6acaf",
   "metadata": {},
   "outputs": [
    {
     "name": "stdout",
     "output_type": "stream",
     "text": [
      "              precision    recall  f1-score   support\n",
      "\n",
      "        NLTK       0.00      0.00      0.00         1\n",
      "       There       1.00      1.00      1.00         1\n",
      "         are       0.50      1.00      0.67         1\n",
      "   available       0.00      0.00      0.00         0\n",
      "          in       0.00      0.00      0.00         1\n",
      "        many       1.00      1.00      1.00         1\n",
      "    measures       1.00      1.00      1.00         1\n",
      "     package       0.00      0.00      0.00         1\n",
      "  similarity       1.00      1.00      1.00         1\n",
      "        used       0.00      0.00      0.00         1\n",
      "\n",
      "    accuracy                           0.56         9\n",
      "   macro avg       0.45      0.50      0.47         9\n",
      "weighted avg       0.50      0.56      0.52         9\n",
      "\n"
     ]
    },
    {
     "name": "stderr",
     "output_type": "stream",
     "text": [
      "C:\\Users\\qpmoh\\anaconda\\lib\\site-packages\\sklearn\\metrics\\_classification.py:1245: UndefinedMetricWarning: Precision and F-score are ill-defined and being set to 0.0 in labels with no predicted samples. Use `zero_division` parameter to control this behavior.\n",
      "  _warn_prf(average, modifier, msg_start, len(result))\n",
      "C:\\Users\\qpmoh\\anaconda\\lib\\site-packages\\sklearn\\metrics\\_classification.py:1245: UndefinedMetricWarning: Recall and F-score are ill-defined and being set to 0.0 in labels with no true samples. Use `zero_division` parameter to control this behavior.\n",
      "  _warn_prf(average, modifier, msg_start, len(result))\n",
      "C:\\Users\\qpmoh\\anaconda\\lib\\site-packages\\sklearn\\metrics\\_classification.py:1245: UndefinedMetricWarning: Precision and F-score are ill-defined and being set to 0.0 in labels with no predicted samples. Use `zero_division` parameter to control this behavior.\n",
      "  _warn_prf(average, modifier, msg_start, len(result))\n",
      "C:\\Users\\qpmoh\\anaconda\\lib\\site-packages\\sklearn\\metrics\\_classification.py:1245: UndefinedMetricWarning: Recall and F-score are ill-defined and being set to 0.0 in labels with no true samples. Use `zero_division` parameter to control this behavior.\n",
      "  _warn_prf(average, modifier, msg_start, len(result))\n",
      "C:\\Users\\qpmoh\\anaconda\\lib\\site-packages\\sklearn\\metrics\\_classification.py:1245: UndefinedMetricWarning: Precision and F-score are ill-defined and being set to 0.0 in labels with no predicted samples. Use `zero_division` parameter to control this behavior.\n",
      "  _warn_prf(average, modifier, msg_start, len(result))\n",
      "C:\\Users\\qpmoh\\anaconda\\lib\\site-packages\\sklearn\\metrics\\_classification.py:1245: UndefinedMetricWarning: Recall and F-score are ill-defined and being set to 0.0 in labels with no true samples. Use `zero_division` parameter to control this behavior.\n",
      "  _warn_prf(average, modifier, msg_start, len(result))\n"
     ]
    }
   ],
   "source": [
    "from sklearn.metrics import confusion_matrix,classification_report\n",
    "print(classification_report(Sentence1,Sentence2))"
   ]
  },
  {
   "cell_type": "code",
   "execution_count": 20,
   "id": "d4f00560",
   "metadata": {},
   "outputs": [
    {
     "name": "stdout",
     "output_type": "stream",
     "text": [
      "{'available', 'in', 'used', 'measures', 'many', 'similarity', 'There', 'are', 'NLTK', 'package'}\n"
     ]
    },
    {
     "data": {
      "text/plain": [
       "<AxesSubplot:>"
      ]
     },
     "execution_count": 20,
     "metadata": {},
     "output_type": "execute_result"
    },
    {
     "data": {
      "image/png": "[encoded data removed]",
      "text/plain": [
       "<Figure size 360x432 with 2 Axes>"
      ]
     },
     "metadata": {
      "needs_background": "light"
     },
     "output_type": "display_data"
    }
   ],
   "source": [
    "import seaborn as sn\n",
    "import pandas as pd\n",
    "import matplotlib.pyplot as plt\n",
    "array = confusion_matrix(Sentence1,Sentence2)\n",
    "\n",
    "setA=set(Sentence1)\n",
    "setB=set(Sentence2)\n",
    "dic = setA.union(setB)\n",
    "print(dic)\n",
    "df = pd.DataFrame(array,index = dic , columns=dic)\n",
    "plt.figure(figsize=(5,6))\n",
    "sn.heatmap(df,annot=True,annot_kws={\"size\":16})"
   ]
  },
  {
   "cell_type": "code",
   "execution_count": 39,
   "id": "d5eb229a",
   "metadata": {},
   "outputs": [
    {
     "data": {
      "text/plain": [
       "0"
      ]
     },
     "execution_count": 39,
     "metadata": {},
     "output_type": "execute_result"
    }
   ],
   "source": [
    "from __future__ import print_function \n",
    "def _edit_dist_init( len1 , len2):\n",
    "    lev = []\n",
    "    for i in range(len1):\n",
    "        lev.append([0] * len2) # initialize 2D array to zero\n",
    "    for i in range(len1):\n",
    "        lev[i][0] = i # column 0: 0,1,2,3,4,...\n",
    "    for j in range(len2):\n",
    "        lev[0][j] = j # row 0: 0,1,2,3,4,...\n",
    "    return lev\n",
    "\n",
    "def _edit_dist_step(lev,i,j,s1,s2,transpositions=False):\n",
    "  c1 =s1[i-1]\n",
    "  c2 =s2[j-1]\n",
    "   # skipping a character in s1\n",
    "  a =lev[i-1][j] +1\n",
    "  # skipping a character in s2\n",
    "  b =lev[i][j -1]+1\n",
    "  # substitution\n",
    "  c =lev[i-1][j-1]+(c1!=c2)\n",
    "  # transposition\n",
    "  d =c+1 # never picked by default\n",
    "  if transpositions and i>1 and j>1:\n",
    "    if s1[i -2]==c2 and s2[j -2]==c1:\n",
    "      d =lev[i-2][j-2]+1\n",
    "      # pick the cheapest\n",
    "    lev[i][j] =min(a,b,c,d)\n",
    "\n",
    "\n",
    "def edit_distance(s1, s2, transpositions=False):\n",
    "  # set up a 2-D array\n",
    "  len1 = len(s1)\n",
    "  len2 = len(s2)\n",
    "  lev = _edit_dist_init(len1 + 1, len2 + 1)\n",
    "  # iterate over the array\n",
    "  for i in range(len1):\n",
    "    for j in range(len2):\n",
    "      _edit_dist_step(lev, i + 1, j + 1, s1, s2,transpositions=transpositions)\n",
    "  return lev[len1][len2]\n",
    "\n",
    "edit_distance(\"relate\",\"relation\")"
   ]
  },
  {
   "cell_type": "code",
   "execution_count": null,
   "id": "4e402c45",
   "metadata": {},
   "outputs": [],
   "source": []
  }
 ],
 "metadata": {
  "kernelspec": {
   "display_name": "Python 3",
   "language": "python",
   "name": "python3"
  },
  "language_info": {
   "codemirror_mode": {
    "name": "ipython",
    "version": 3
   },
   "file_extension": ".py",
   "mimetype": "text/x-python",
   "name": "python",
   "nbconvert_exporter": "python",
   "pygments_lexer": "ipython3",
   "version": "3.8.8"
  }
 },
 "nbformat": 4,
 "nbformat_minor": 5
}
