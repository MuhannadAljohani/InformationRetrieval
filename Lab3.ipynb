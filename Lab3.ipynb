{
 "cells": [
  {
   "cell_type": "code",
   "execution_count": 1,
   "id": "290ebf45",
   "metadata": {},
   "outputs": [],
   "source": [
    "import re"
   ]
  },
  {
   "cell_type": "code",
   "execution_count": 10,
   "id": "bc34f317",
   "metadata": {},
   "outputs": [
    {
     "name": "stdout",
     "output_type": "stream",
     "text": [
      "Yes! the sentences is matched\n"
     ]
    }
   ],
   "source": [
    "sen='Regular expression is a sequence of character(s) mainly used to find and replace patterns in a string or file'\n",
    "start_word='Regular'\n",
    "end_word='file'\n",
    "x=re.search=(\"^\"+start_word+\".\"+'file$'+sen)\n",
    "if x:\n",
    "    print('Yes! the sentences is matched')\n",
    "else:\n",
    "        print('No!')"
   ]
  },
  {
   "cell_type": "code",
   "execution_count": 19,
   "id": "41a5597d",
   "metadata": {},
   "outputs": [
    {
     "name": "stdout",
     "output_type": "stream",
     "text": [
      "We will see how to replace words using regular expressions such does not, can’t and so on\n"
     ]
    }
   ],
   "source": [
    "replacement_patterns = [\n",
    "(r'won\\'t', 'will not'),\n",
    "(r'can\\'t', 'cannot'),\n",
    "(r'i\\'m', 'i am'),\n",
    "(r'ain\\'t', 'is not'),\n",
    "(r'(\\w+)\\'ll', '\\g<1> will'),\n",
    "(r'(\\w+)n\\'t', '\\g<1> not'),\n",
    "(r'(\\w+)\\'ve', '\\g<1> have'),\n",
    "(r'(\\w+)\\'s', '\\g<1> is'),\n",
    "(r'(\\w+)\\'re', '\\g<1> are'),\n",
    "(r'(\\w+)\\'d', '\\g<1> would')]\n",
    "\n",
    "class RegexpReplacer (object):\n",
    "    def __init__(self, patterns=replacement_patterns):\n",
    "        self.patterns = [(re.compile(regex), repl) for (regex, repl)in patterns]\n",
    "    def replace(self, text):\n",
    "        s = text\n",
    "        for (pattern, repl) in self.patterns:\n",
    "            (s, count) = re.subn(pattern, repl, s)\n",
    "    \n",
    "        return s \n",
    "\n",
    "replacer=RegexpReplacer()\n",
    "text=\"We'll see how to replace words using regular expressions such doesn't, can’t and so on\"\n",
    "print(replacer.replace(text))"
   ]
  },
  {
   "cell_type": "code",
   "execution_count": null,
   "id": "ef17f0b8",
   "metadata": {},
   "outputs": [],
   "source": []
  }
 ],
 "metadata": {
  "kernelspec": {
   "display_name": "Python 3",
   "language": "python",
   "name": "python3"
  },
  "language_info": {
   "codemirror_mode": {
    "name": "ipython",
    "version": 3
   },
   "file_extension": ".py",
   "mimetype": "text/x-python",
   "name": "python",
   "nbconvert_exporter": "python",
   "pygments_lexer": "ipython3",
   "version": "3.8.8"
  }
 },
 "nbformat": 4,
 "nbformat_minor": 5
}
